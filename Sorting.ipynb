{
 "cells": [
  {
   "cell_type": "markdown",
   "metadata": {},
   "source": [
    "# SORTING & SEARCHING"
   ]
  },
  {
   "cell_type": "markdown",
   "metadata": {},
   "source": [
    "## SORTING"
   ]
  },
  {
   "cell_type": "markdown",
   "metadata": {},
   "source": [
    "### 1. _*INSERTION SORT*_\n",
    "-  Time Complexity _O($n^2$)_. \n",
    "-  Best Case Complexity _O(n)_.  \n",
    "-  Worst Case Complexity _O($n^2$)_.\n",
    "-  Average Case Complexity _O($n^2$)_.\n",
    "-  Auxiliary Space _O(1)_.     (_INPLACE_)\\\n",
    "Insertion sort is efficient for small data values.\\\n",
    "Adaptive: i.e., efficient for data set that are already substantially sorted"
   ]
  },
  {
   "cell_type": "code",
   "execution_count": null,
   "metadata": {},
   "outputs": [],
   "source": [
    "def insert(l):\n",
    "    for i in range(1, len(l)):\n",
    "        key = l[i]\n",
    "        j = i-1\n",
    "        while(j >= 0 and l[j] > key):\n",
    "            l[j+1] = l[j]\n",
    "            j = j-1\n",
    "        l[j+1] = key\n",
    "    return l\n",
    "\n",
    "l = []\n",
    "for _ in range(int(input('Input number of input'))):\n",
    "    l.append(int(input()))\n",
    "print(insert(l))\n"
   ]
  },
  {
   "cell_type": "markdown",
   "metadata": {},
   "source": [
    "### 2. _SELECTION SORT_ \n",
    "-  Complexity _O($n^2$) \n",
    "-  Worst-Case = Average-Case = _O($n^2$)_ comparisons, _O(n)_ swaps \n",
    "-  Best-Case performance =  _O($n^2$)_ comparisons, _O(1)_ swaps \\\n",
    "INPLACE"
   ]
  },
  {
   "cell_type": "code",
   "execution_count": null,
   "metadata": {},
   "outputs": [],
   "source": [
    "def selectsort(l):\n",
    "    n = len(l)\n",
    "    if n<1:\n",
    "        return(l)\n",
    "    for i in range(n):\n",
    "        mpos = i\n",
    "        for j in range(i+1,n):\n",
    "            if l[j]<l[mpos]:\n",
    "                mpos=j\n",
    "        (l[i],l[mpos]) = (l[mpos],l[i])\n",
    "    return(l)\n",
    "l = []\n",
    "for _ in range(int(input('Input number of input'))):\n",
    "    l.append(int(input()))\n",
    "print(selectsort(l))"
   ]
  },
  {
   "cell_type": "markdown",
   "metadata": {},
   "source": [
    "### 3. _MERGE SORT_\n",
    "Recurrence relation/equation - _2T($\\frac{n}{2}$)_ + $\\theta$(_n_) \\\n",
    "Best Case, Average Case and, Worst-Case Performance - _O(n $\\cdot$ log n)_ \\\n",
    "It is a devide and conquer algorithm.\\\n",
    "Auxiliary Space - _O(n)_ \n",
    "-  (It makes copies of all _n_ elements, and so merge sort definately does not run in place.) \\\n"
   ]
  },
  {
   "cell_type": "markdown",
   "metadata": {},
   "source": [
    "##### Method 1"
   ]
  },
  {
   "cell_type": "code",
   "execution_count": null,
   "metadata": {},
   "outputs": [],
   "source": [
    "def merge(a,b):\n",
    "    (m,n) = (len(a),len(b))\n",
    "    (c,i,j,k) = ([],0,0,0)\n",
    "    while k < m+n:\n",
    "        if i == m:\n",
    "            c.extend(b[j:])\n",
    "            k = k+(n-j)\n",
    "        elif j == n:\n",
    "            c.extend(a[i:])\n",
    "            k = k+(m-i)\n",
    "        elif a[i]<b[j]:\n",
    "            c.append(a[i])\n",
    "            (i,k) = (i+1,k+1)\n",
    "        else:\n",
    "            c.append(b[j])\n",
    "            (j,k) = (j+1,k+1)\n",
    "    return(c)\n",
    "\n",
    "def mergesort(a):\n",
    "    n = len(a)\n",
    "    if n <= 1:\n",
    "        return(a)\n",
    "    l = mergesort(a[:n//2])\n",
    "    r = mergesort(a[n//2:])\n",
    "    b = merge(l,r)\n",
    "    return(b)\n",
    "\n",
    "l = []\n",
    "for _ in range(int(input('Input number of input'))):\n",
    "    l.append(int(input()))\n",
    "print(mergesort(l))"
   ]
  },
  {
   "cell_type": "markdown",
   "metadata": {},
   "source": [
    "##### Method 2"
   ]
  },
  {
   "cell_type": "code",
   "execution_count": null,
   "metadata": {},
   "outputs": [],
   "source": [
    "def merge(arr, l, m, r):\n",
    "    n1 = m - l + 1\n",
    "    n2 = r - m\n",
    " \n",
    "    # create temp arrays\n",
    "    L = [0] * (n1)\n",
    "    R = [0] * (n2)\n",
    " \n",
    "    # Copy data to temp arrays L[] and R[]\n",
    "    for i in range(0, n1):\n",
    "        L[i] = arr[l + i]\n",
    " \n",
    "    for j in range(0, n2):\n",
    "        R[j] = arr[m + 1 + j]\n",
    " \n",
    "    # Merge the temp arrays back into arr[l..r]\n",
    "    i = 0     # Initial index of first subarray\n",
    "    j = 0     # Initial index of second subarray\n",
    "    k = l     # Initial index of merged subarray\n",
    " \n",
    "    while i < n1 and j < n2:\n",
    "        if L[i] <= R[j]:\n",
    "            arr[k] = L[i]\n",
    "            i += 1\n",
    "        else:\n",
    "            arr[k] = R[j]\n",
    "            j += 1\n",
    "        k += 1\n",
    " \n",
    "    # Copy the remaining elements of L[], if there\n",
    "    # are any\n",
    "    while i < n1:\n",
    "        arr[k] = L[i]\n",
    "        i += 1\n",
    "        k += 1\n",
    " \n",
    "    # Copy the remaining elements of R[], if there\n",
    "    # are any\n",
    "    while j < n2:\n",
    "        arr[k] = R[j]\n",
    "        j += 1\n",
    "        k += 1\n",
    " \n",
    "# l is for left index and r is right index of the\n",
    "# sub-array of arr to be sorted\n",
    " \n",
    "def mergeSort(arr,l,r):\n",
    "    if l < r:\n",
    " \n",
    "        # Same as (l+r)//2, but avoids overflow for\n",
    "        # large l and h\n",
    "        m = l+(r-l)//2\n",
    " \n",
    "        # Sort first and second halves\n",
    "        mergeSort(arr, l, m)\n",
    "        mergeSort(arr, m+1, r)\n",
    "        merge(arr, l, m, r)\n",
    "\n",
    "n = int(input('Input number of input'))\n",
    "l = []\n",
    "for _ in range(n):\n",
    "    l.append(int(input()))\n",
    "mergeSort(l,0,n-1)\n",
    "print(l)"
   ]
  },
  {
   "cell_type": "markdown",
   "metadata": {},
   "source": [
    "### 4. _HEAP SORT_\n",
    "Worst-Case = Average-Case = Best-Case *O(n $\\cdot$ log n)* \\\n",
    "Auxiliary Space _O(1)_  - INPLACE \\\n",
    "Uses Data structure called HEAP"
   ]
  },
  {
   "cell_type": "code",
   "execution_count": 8,
   "metadata": {},
   "outputs": [
    {
     "name": "stdout",
     "output_type": "stream",
     "text": [
      "4\n",
      "1\n",
      "2\n",
      "2\n",
      "1\n",
      "[1, 3, 4, 5, 7, 8]\n"
     ]
    }
   ],
   "source": [
    "def max_heapify(a,n,i):\n",
    "        \n",
    "    l = 2*i+1\n",
    "    r = 2*i+2\n",
    "    if l < n and a[l]>a[i]:\n",
    "        largest = l\n",
    "    else:\n",
    "        largest = i    \n",
    "    if r < n and a[r]>a[largest]:\n",
    "        largest = r\n",
    "    if largest != i:\n",
    "        (a[i],a[largest]) = (a[largest],a[i])\n",
    "        print(largest)\n",
    "        max_heapify(a,n,largest)\n",
    "\n",
    "def build_max_heap(a):\n",
    "    n = len(a)\n",
    "    for i in range((n//2)-1,-1,-1):\n",
    "        max_heapify(a,n,i)\n",
    "    \n",
    "def heapsort(a):\n",
    "    n=len(a)\n",
    "    build_max_heap(a)\n",
    "    for i in range(n-1,0,-1):\n",
    "        a[i], a[0] = a[0], a[i]\n",
    "        max_heapify(a,i,0)\n",
    "    return(a)\n",
    "\n",
    "a = [4,3,7,1,8,5]\n",
    "b=heapsort(a)\n",
    "print(b)"
   ]
  },
  {
   "cell_type": "markdown",
   "metadata": {},
   "source": [
    "### 5. _QUICK SORT_\n",
    "**Algorithm Paradigm** - Devide & Conquer\n",
    "Worst case performance - _O($n^2$)_ \\\n",
    "Average case performance = Best case performance =  _O(n $\\cdot$ log n)_ \\\n",
    "In-Place\n",
    "The most direct competitor of quicksort is heapsort. Heapsort's running time is _O(n $\\cdot$ log n)_ but heapsort's average runnning time is usually considered slower than in-place quicksort.\n"
   ]
  },
  {
   "cell_type": "code",
   "execution_count": null,
   "metadata": {},
   "outputs": [],
   "source": [
    "def partititon(a,p,r):\n",
    "    x = a[r]\n",
    "    i = p-1\n",
    "    for j in range(p,r):\n",
    "        if a[j] <= x:\n",
    "            i = i+1\n",
    "            (a[i],a[j])=(a[j],a[i])\n",
    "    (a[i+1],a[r])=(a[r],a[i+1])\n",
    "\n",
    "    return i+1\n",
    "\n",
    "def quicksort(a,p,r):\n",
    "    if p<r:\n",
    "        q = partititon(a,p,r)\n",
    "        quicksort(a,p,q-1)\n",
    "        quicksort(a,q+1,r)\n",
    "        return a\n",
    "l=[]\n",
    "import sys\n",
    "sys.setrecursionlimit(10**6)\n",
    "import random\n",
    "for i in range(1000):\n",
    "    l.append(random.randint(1,1000))\n",
    "s = quicksort(l,0,len(l)-1)\n",
    "print(s)"
   ]
  },
  {
   "cell_type": "markdown",
   "metadata": {},
   "source": [
    "## SEARCHING"
   ]
  },
  {
   "cell_type": "markdown",
   "metadata": {},
   "source": [
    "### _BINARY SEARCH_\n",
    "Time Complexity - O(_log n_) \\\n",
    "Best Case Complexity - O(_1_)"
   ]
  },
  {
   "cell_type": "code",
   "execution_count": null,
   "metadata": {},
   "outputs": [],
   "source": [
    "def binary(l,n):\n",
    "    def bin(l,n,start,end):\n",
    "        if start == end:\n",
    "            return l[start]==n\n",
    "        mid = (start + end)//2\n",
    "        if l[mid] == n:\n",
    "            return(True)\n",
    "        elif l[mid]>n:\n",
    "            if start == mid:\n",
    "                return False\n",
    "            else:\n",
    "                return bin(l,n,start,mid-1)\n",
    "        elif l[mid]<n:\n",
    "            return bin(l,n,mid+1,end)\n",
    "\n",
    "    if len(l)==0:\n",
    "        return False\n",
    "    else:\n",
    "        return bin(l,n,0,len(l)-1)\n",
    "\n",
    "l = list(map(int,input().split(' ')))\n",
    "n = int(input())\n",
    "print(binary(l,n))"
   ]
  },
  {
   "cell_type": "markdown",
   "metadata": {},
   "source": [
    "### LINEAR SEARCH\n",
    "Worst-case performance - _O(n)_ \\\n",
    "Best-Case performance - _O(1)_ \\\n",
    "Average performance - _O($\\frac{n}{2}$)_ \\\n",
    "Worst Case space complexity - _O(1)_"
   ]
  },
  {
   "cell_type": "code",
   "execution_count": null,
   "metadata": {},
   "outputs": [],
   "source": [
    "def linear(a,n):\n",
    "    flag = False\n",
    "    for i in a:\n",
    "        if i == n:\n",
    "            flag = True\n",
    "            break\n",
    "        else:\n",
    "            flag = False\n",
    "    return flag\n",
    "\n",
    "n = 10\n",
    "a = [5,3,7,9,2,1,4,0,7,5,2]\n",
    "print(linear(a,n))"
   ]
  }
 ],
 "metadata": {
  "kernelspec": {
   "display_name": "Python 3.9.9 64-bit (windows store)",
   "language": "python",
   "name": "python3"
  },
  "language_info": {
   "codemirror_mode": {
    "name": "ipython",
    "version": 3
   },
   "file_extension": ".py",
   "mimetype": "text/x-python",
   "name": "python",
   "nbconvert_exporter": "python",
   "pygments_lexer": "ipython3",
   "version": "3.9.9"
  },
  "orig_nbformat": 4,
  "vscode": {
   "interpreter": {
    "hash": "70db2dcc43d428941b2934a8ee42e5891ccfbe7bba98c14b12e56d781fa2a333"
   }
  }
 },
 "nbformat": 4,
 "nbformat_minor": 2
}
